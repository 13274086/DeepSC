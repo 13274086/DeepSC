{
 "cells": [
  {
   "cell_type": "code",
   "execution_count": 1,
   "id": "7181e061",
   "metadata": {},
   "outputs": [],
   "source": [
    "import pandas as pd\n",
    "import numpy as np"
   ]
  },
  {
   "cell_type": "code",
   "execution_count": 2,
   "id": "9e9868a7",
   "metadata": {},
   "outputs": [],
   "source": [
    "data1 = pd.read_table('cer_2012/File1.txt',header=None,sep=' ')\n",
    "data2 = pd.read_table('cer_2012/File2.txt',header=None,sep=' ')\n",
    "data3 = pd.read_table('cer_2012/File3.txt',header=None,sep=' ')\n",
    "data4 = pd.read_table('cer_2012/File4.txt',header=None,sep=' ')\n",
    "data5 = pd.read_table('cer_2012/File5.txt',header=None,sep=' ')\n",
    "data6 = pd.read_table('cer_2012/File6.txt',header=None,sep=' ')"
   ]
  },
  {
   "cell_type": "code",
   "execution_count": 3,
   "id": "b9528f23",
   "metadata": {},
   "outputs": [],
   "source": [
    "data = pd.concat([data1,data2,data3,data4,data5,data6])\n",
    "\n",
    "data.columns = ['uid','timestamp','elec']"
   ]
  },
  {
   "cell_type": "code",
   "execution_count": 4,
   "id": "29da6c18",
   "metadata": {},
   "outputs": [
    {
     "data": {
      "text/html": [
       "<div>\n",
       "<style scoped>\n",
       "    .dataframe tbody tr th:only-of-type {\n",
       "        vertical-align: middle;\n",
       "    }\n",
       "\n",
       "    .dataframe tbody tr th {\n",
       "        vertical-align: top;\n",
       "    }\n",
       "\n",
       "    .dataframe thead th {\n",
       "        text-align: right;\n",
       "    }\n",
       "</style>\n",
       "<table border=\"1\" class=\"dataframe\">\n",
       "  <thead>\n",
       "    <tr style=\"text-align: right;\">\n",
       "      <th></th>\n",
       "      <th>uid</th>\n",
       "      <th>timestamp</th>\n",
       "      <th>elec</th>\n",
       "    </tr>\n",
       "  </thead>\n",
       "  <tbody>\n",
       "    <tr>\n",
       "      <th>0</th>\n",
       "      <td>1392</td>\n",
       "      <td>19503</td>\n",
       "      <td>0.140</td>\n",
       "    </tr>\n",
       "    <tr>\n",
       "      <th>1</th>\n",
       "      <td>1392</td>\n",
       "      <td>19504</td>\n",
       "      <td>0.138</td>\n",
       "    </tr>\n",
       "    <tr>\n",
       "      <th>2</th>\n",
       "      <td>1392</td>\n",
       "      <td>19505</td>\n",
       "      <td>0.140</td>\n",
       "    </tr>\n",
       "    <tr>\n",
       "      <th>3</th>\n",
       "      <td>1392</td>\n",
       "      <td>19506</td>\n",
       "      <td>0.145</td>\n",
       "    </tr>\n",
       "    <tr>\n",
       "      <th>4</th>\n",
       "      <td>1392</td>\n",
       "      <td>19507</td>\n",
       "      <td>0.145</td>\n",
       "    </tr>\n",
       "    <tr>\n",
       "      <th>...</th>\n",
       "      <td>...</td>\n",
       "      <td>...</td>\n",
       "      <td>...</td>\n",
       "    </tr>\n",
       "    <tr>\n",
       "      <th>35436007</th>\n",
       "      <td>6269</td>\n",
       "      <td>73044</td>\n",
       "      <td>0.425</td>\n",
       "    </tr>\n",
       "    <tr>\n",
       "      <th>35436008</th>\n",
       "      <td>6269</td>\n",
       "      <td>73045</td>\n",
       "      <td>0.385</td>\n",
       "    </tr>\n",
       "    <tr>\n",
       "      <th>35436009</th>\n",
       "      <td>6269</td>\n",
       "      <td>73046</td>\n",
       "      <td>0.431</td>\n",
       "    </tr>\n",
       "    <tr>\n",
       "      <th>35436010</th>\n",
       "      <td>6269</td>\n",
       "      <td>73047</td>\n",
       "      <td>0.459</td>\n",
       "    </tr>\n",
       "    <tr>\n",
       "      <th>35436011</th>\n",
       "      <td>6269</td>\n",
       "      <td>73048</td>\n",
       "      <td>0.515</td>\n",
       "    </tr>\n",
       "  </tbody>\n",
       "</table>\n",
       "<p>157992996 rows × 3 columns</p>\n",
       "</div>"
      ],
      "text/plain": [
       "           uid  timestamp   elec\n",
       "0         1392      19503  0.140\n",
       "1         1392      19504  0.138\n",
       "2         1392      19505  0.140\n",
       "3         1392      19506  0.145\n",
       "4         1392      19507  0.145\n",
       "...        ...        ...    ...\n",
       "35436007  6269      73044  0.425\n",
       "35436008  6269      73045  0.385\n",
       "35436009  6269      73046  0.431\n",
       "35436010  6269      73047  0.459\n",
       "35436011  6269      73048  0.515\n",
       "\n",
       "[157992996 rows x 3 columns]"
      ]
     },
     "execution_count": 4,
     "metadata": {},
     "output_type": "execute_result"
    }
   ],
   "source": [
    "data"
   ]
  },
  {
   "cell_type": "code",
   "execution_count": 7,
   "id": "27b3fb38",
   "metadata": {},
   "outputs": [
    {
     "name": "stderr",
     "output_type": "stream",
     "text": [
      "/tmp/ipykernel_27600/3584262559.py:1: DtypeWarning: Columns (70,71,72,73,74,75,76,77,78,79,90,91,92,93,94) have mixed types. Specify dtype option on import or set low_memory=False.\n",
      "  suervey_pre = pd.read_csv('cer_2012/CER_Electricity_Data/survery_data/Smart meters Residential pre-trial survey data.csv',\n"
     ]
    }
   ],
   "source": [
    "suervey_pre = pd.read_csv('cer_2012/CER_Electricity_Data/survery_data/Smart meters Residential pre-trial survey data.csv',\n",
    "                          encoding='gbk')"
   ]
  },
  {
   "cell_type": "code",
   "execution_count": 9,
   "id": "f3f7a167",
   "metadata": {},
   "outputs": [],
   "source": [
    "data.uid = data.uid.astype(int)"
   ]
  },
  {
   "cell_type": "code",
   "execution_count": 10,
   "id": "d9da18fc",
   "metadata": {},
   "outputs": [],
   "source": [
    "data = data[data['uid'].isin(suervey_pre['ID'])]\n",
    "data = data[data['uid'].isin(data['uid'].value_counts()[data['uid'].value_counts()>20000].index.tolist())]"
   ]
  },
  {
   "cell_type": "code",
   "execution_count": 12,
   "id": "c0d0fee5",
   "metadata": {},
   "outputs": [
    {
     "data": {
      "text/plain": [
       "4064"
      ]
     },
     "execution_count": 12,
     "metadata": {},
     "output_type": "execute_result"
    }
   ],
   "source": [
    "data['uid'].nunique()"
   ]
  },
  {
   "cell_type": "code",
   "execution_count": 13,
   "id": "1aad2acc",
   "metadata": {},
   "outputs": [],
   "source": [
    "import pickle"
   ]
  },
  {
   "cell_type": "code",
   "execution_count": 15,
   "id": "1b5ab4d9",
   "metadata": {},
   "outputs": [],
   "source": [
    "all_uids = data['uid'].unique()\n",
    "all_timestamps = np.sort(data['timestamp'].unique())\n",
    "new_index = pd.MultiIndex.from_product([all_uids, all_timestamps], names=['uid', 'timestamp'])\n",
    "index_data = pd.DataFrame(index=new_index).reset_index()"
   ]
  },
  {
   "cell_type": "code",
   "execution_count": 16,
   "id": "a7630c63",
   "metadata": {},
   "outputs": [],
   "source": [
    "index_data['timestamp_rank'] = index_data.groupby('uid')['timestamp'].rank().astype(int)"
   ]
  },
  {
   "cell_type": "code",
   "execution_count": 18,
   "id": "f55a32cc-3361-43fc-aab5-c6aa9bd78acb",
   "metadata": {},
   "outputs": [],
   "source": [
    "# 合并原始数据和新DataFrame\n",
    "merged_data = pd.merge(index_data, data, on=['uid', 'timestamp'], how='left')\n",
    "merged_data.elec = merged_data.elec.fillna(0)"
   ]
  },
  {
   "cell_type": "code",
   "execution_count": 45,
   "id": "0c2064bb",
   "metadata": {},
   "outputs": [
    {
     "name": "stdout",
     "output_type": "stream",
     "text": [
      "start_timestamp: 94  end_timestamp: 190\n"
     ]
    },
    {
     "name": "stdout",
     "output_type": "stream",
     "text": [
      "start_timestamp: 191  end_timestamp: 287\n",
      "start_timestamp: 288  end_timestamp: 384\n",
      "start_timestamp: 385  end_timestamp: 481\n",
      "start_timestamp: 482  end_timestamp: 578\n",
      "start_timestamp: 579  end_timestamp: 675\n",
      "start_timestamp: 676  end_timestamp: 772\n"
     ]
    }
   ],
   "source": [
    "import random\n",
    "all_data = []\n",
    "test_data = []\n",
    "end_timestamp = random.randint(0,99)\n",
    "for i in range(5):\n",
    "    start_timestamp = end_timestamp+1\n",
    "    end_timestamp = start_timestamp + 96\n",
    "    print ('start_timestamp:',start_timestamp,' end_timestamp:',end_timestamp)\n",
    "\n",
    "    load_forecasting_df = merged_data.groupby('uid').first().reset_index()\n",
    "    elec_data = merged_data[(merged_data['timestamp_rank'] >= start_timestamp) & (merged_data['timestamp_rank'] < end_timestamp)]\n",
    "\n",
    "    train_data = elec_data.groupby('uid')['elec'].apply(list).reset_index()\n",
    "    train_data.columns = ['uid','train_elec']\n",
    "\n",
    "    load_forecasting_df = load_forecasting_df.merge(train_data,on='uid',how='left')\n",
    "\n",
    "    load_forecasting_df = load_forecasting_df[['uid','train_elec']]\n",
    "    all_data.append(load_forecasting_df)\n",
    "    \n",
    "for i in range(2):\n",
    "    start_timestamp = end_timestamp+1\n",
    "    end_timestamp = start_timestamp + 96\n",
    "    print ('start_timestamp:',start_timestamp,' end_timestamp:',end_timestamp)\n",
    "\n",
    "    load_forecasting_df = merged_data.groupby('uid').first().reset_index()\n",
    "    elec_data = merged_data[(merged_data['timestamp_rank'] >= start_timestamp) & (merged_data['timestamp_rank'] < end_timestamp)]\n",
    "\n",
    "    train_data = elec_data.groupby('uid')['elec'].apply(list).reset_index()\n",
    "    train_data.columns = ['uid','train_elec']\n",
    "\n",
    "    load_forecasting_df = load_forecasting_df.merge(train_data,on='uid',how='left')\n",
    "\n",
    "    load_forecasting_df = load_forecasting_df[['uid','train_elec']]\n",
    "    test_data.append(load_forecasting_df)"
   ]
  },
  {
   "cell_type": "code",
   "execution_count": 46,
   "id": "0aa767a3",
   "metadata": {},
   "outputs": [],
   "source": [
    "all_data = pd.concat(all_data,axis=0).reset_index(drop=True)\n",
    "test_data = pd.concat(test_data,axis=0).reset_index(drop=True)"
   ]
  },
  {
   "cell_type": "code",
   "execution_count": 47,
   "id": "5977bea8",
   "metadata": {},
   "outputs": [],
   "source": [
    "final_data = np.array(all_data['train_elec'].tolist())\n",
    "test_data = np.array(test_data['train_elec'].tolist())"
   ]
  },
  {
   "cell_type": "code",
   "execution_count": 52,
   "id": "e804056f-c81d-489a-944e-f13af6cc7af4",
   "metadata": {},
   "outputs": [],
   "source": [
    "pickle.dump(final_data, open('data_96_train.pkl','wb'))\n",
    "pickle.dump(test_data, open('data_96_test.pkl','wb'))"
   ]
  },
  {
   "cell_type": "code",
   "execution_count": null,
   "id": "7851aaee-3504-420c-aed1-80ab649fbc8c",
   "metadata": {},
   "outputs": [],
   "source": []
  }
 ],
 "metadata": {
  "kernelspec": {
   "display_name": "Python 3 (ipykernel)",
   "language": "python",
   "name": "python3"
  },
  "language_info": {
   "codemirror_mode": {
    "name": "ipython",
    "version": 3
   },
   "file_extension": ".py",
   "mimetype": "text/x-python",
   "name": "python",
   "nbconvert_exporter": "python",
   "pygments_lexer": "ipython3",
   "version": "3.10.12"
  }
 },
 "nbformat": 4,
 "nbformat_minor": 5
}
